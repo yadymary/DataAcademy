{
  "nbformat": 4,
  "nbformat_minor": 0,
  "metadata": {
    "colab": {
      "name": "LinearregressionAlgorithm.ipynb",
      "provenance": [],
      "collapsed_sections": [],
      "authorship_tag": "ABX9TyNiFAIiVLC0m/T3F/gAOQz/",
      "include_colab_link": true
    },
    "kernelspec": {
      "name": "python3",
      "display_name": "Python 3"
    },
    "language_info": {
      "name": "python"
    }
  },
  "cells": [
    {
      "cell_type": "markdown",
      "metadata": {
        "id": "view-in-github",
        "colab_type": "text"
      },
      "source": [
        "<a href=\"https://colab.research.google.com/github/yadymary/DataAcademy/blob/main/LinearRegressionAlgorithm.ipynb\" target=\"_parent\"><img src=\"https://colab.research.google.com/assets/colab-badge.svg\" alt=\"Open In Colab\"/></a>"
      ]
    },
    {
      "cell_type": "code",
      "metadata": {
        "id": "L6ryGfzG9kvE"
      },
      "source": [
        "import numpy as np\n",
        "import matplotlib.pyplot as plt"
      ],
      "execution_count": 2,
      "outputs": []
    },
    {
      "cell_type": "code",
      "metadata": {
        "id": "3AM1dGqk96hf"
      },
      "source": [
        "def estimate__b0_b1 (x,y):\n",
        "    n= np.size (x)\n",
        "    #obtenemos los promedios de x y de y\n",
        "    m_x,m_y = np.mean(x), np.mean(y)\n",
        "\n",
        "    #calcular sumatoria de XYy mi sumatoria de XX\n",
        "    sumatoria_xy = np.sum((x-m_x)*(y-m_y))\n",
        "    sumatoria_xx = np.sum(x*(x-m_x))\n",
        "\n",
        "    #coeficientes de regresion\n",
        "    b_1 = sumatoria-xy/sumatoria_xx\n",
        "    b_0 = m_y - b_1*m_x \n",
        "    return (b_0, b_1)"
      ],
      "execution_count": 5,
      "outputs": []
    }
  ]
}